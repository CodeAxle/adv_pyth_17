{
 "cells": [
  {
   "cell_type": "markdown",
   "id": "30046b13",
   "metadata": {},
   "source": [
    "# 1."
   ]
  },
  {
   "cell_type": "code",
   "execution_count": 1,
   "id": "348d0a24",
   "metadata": {},
   "outputs": [],
   "source": [
    "# In visual terms, a greedy match grabs as much as possible, like a monster eating everything in its path. On the other hand,\n",
    "# a non-greedy match grabs as little as necessary, like a bird carefully picking up only one seed.\n",
    "\n",
    "# To transform a greedy pattern into a non-greedy one, you add a ? after the quantifier (such as *, +, ?, or {}) in the regular\n",
    "# expression. This ? modifier makes the quantifier non-greedy."
   ]
  },
  {
   "cell_type": "markdown",
   "id": "e8ae67e3",
   "metadata": {},
   "source": [
    "# 2."
   ]
  },
  {
   "cell_type": "code",
   "execution_count": 2,
   "id": "06353f96",
   "metadata": {},
   "outputs": [],
   "source": [
    "# The distinction between greedy and non-greedy matching becomes crucial when dealing with patterns that can match multiple \n",
    "#  substrings within a given input text.\n",
    "\n",
    "# In scenarios where you specifically require a non-greedy match but only a greedy one is available, you may encounter issues \n",
    "# such as capturing more text than intended or not capturing the desired substring at all. This mismatch between the desired \n",
    "# match behavior and the available pattern can lead to incorrect results or unexpected behavior in your regular expression matches. \n",
    "# It's essential to carefully design your regular expressions to ensure they align with your intended matching logic."
   ]
  },
  {
   "cell_type": "markdown",
   "id": "52b11d41",
   "metadata": {},
   "source": [
    "# 3."
   ]
  },
  {
   "cell_type": "code",
   "execution_count": 3,
   "id": "5337ab03",
   "metadata": {},
   "outputs": [],
   "source": [
    "# In a simple match where you're only looking for one match and not performing any replacements, the use of a non-capturing group \n",
    "# (nontagged group) may not make a practical difference in terms of the final match result. \n",
    "\n",
    "# However, there are a few nuances to consider:\n",
    "\n",
    "# a) Group Capturing: Regular expression engines generally capture the matched substrings within capturing groups. If you use a \n",
    "#     capturing group (pattern), the matched substring will be stored in memory and can be accessed later in your code if needed.\n",
    "#     On the other hand, a non-capturing group (?:pattern) does not capture the matched substring, which can be advantageous if \n",
    "#     you don't need to retrieve or use that specific match.\n",
    "\n",
    "# b) Performance Considerations: In some cases, using non-capturing groups can lead to slightly better performance compared to\n",
    "#     capturing groups because the engine doesn't need to store the matched substring in memory.\n",
    "\n",
    "# c) Clarity and Readability: Non-capturing groups can also improve the readability and clarity of your regular expressions, \n",
    "#     especially when dealing with complex patterns or when you want to explicitly indicate that a particular group is for \n",
    "#     grouping purposes only and not for capturing."
   ]
  },
  {
   "cell_type": "markdown",
   "id": "8ed51d4e",
   "metadata": {},
   "source": [
    "# 4."
   ]
  },
  {
   "cell_type": "code",
   "execution_count": 4,
   "id": "3c33ef3c",
   "metadata": {},
   "outputs": [
    {
     "name": "stdout",
     "output_type": "stream",
     "text": [
      "AppleWebKit\n"
     ]
    }
   ],
   "source": [
    "# One scenario where using a non-capturing group (nontagged category) can have a significant impact on a program's outcomes is\n",
    "# when you're working with regular expressions in a performance-critical application or dealing with large volumes of data. \n",
    "\n",
    "# Here's an example scenario:\n",
    "\n",
    "# Imagine you're developing a web server that needs to handle incoming HTTP requests and extract certain information from the \n",
    "# request headers, such as user agents. You want to identify requests from specific browsers without capturing the entire user \n",
    "# agent string.\n",
    "\n",
    "# example(code):\n",
    "import re\n",
    "\n",
    "user_agent = 'Mozilla/5.0 (Windows NT 10.0; Win64; x64) AppleWebKit/537.36 (KHTML, like Gecko) Chrome/91.0.4472.124 Safari/537.36'\n",
    "\n",
    "# Using a capturing group to extract the browser name\n",
    "match = re.search(r'Mozilla.*?(\\w+)/\\d+\\.\\d+', user_agent)\n",
    "if match:\n",
    "    browser_name = match.group(1)\n",
    "    print(browser_name)  # Output: Chrome"
   ]
  },
  {
   "cell_type": "markdown",
   "id": "75d5a41c",
   "metadata": {},
   "source": [
    "# 5."
   ]
  },
  {
   "cell_type": "code",
   "execution_count": 5,
   "id": "112fee71",
   "metadata": {},
   "outputs": [
    {
     "name": "stdout",
     "output_type": "stream",
     "text": [
      "[]\n"
     ]
    }
   ],
   "source": [
    "# One scenario where the non-consuming nature of a look-ahead condition in regular expressions can make a significant difference\n",
    "# is when you need to match patterns that are followed by specific conditions without including those conditions in the actual\n",
    "# match.\n",
    "\n",
    "# For example, consider a text-processing application that needs to extract email addresses from a given text but only if they \n",
    "# are followed by a specific domain name. \n",
    "\n",
    "# example(code):\n",
    "import re\n",
    "\n",
    "text = \"Contact us at email@example.com or support@example.com\"\n",
    "\n",
    "# Using a positive look-ahead to match email addresses followed by \"example.com\"\n",
    "matches = re.findall(r'\\b\\w+@\\w+\\.\\w+(?= example\\.com\\b)', text)\n",
    "\n",
    "print(matches)"
   ]
  },
  {
   "cell_type": "markdown",
   "id": "9c37bb8f",
   "metadata": {},
   "source": [
    "# 6."
   ]
  },
  {
   "cell_type": "code",
   "execution_count": 6,
   "id": "beff232c",
   "metadata": {},
   "outputs": [
    {
     "name": "stdout",
     "output_type": "stream",
     "text": [
      "True\n",
      "False\n"
     ]
    }
   ],
   "source": [
    "# assertions used to check if a specific pattern exists (positive look-ahead) or does not exist (negative look-ahead) ahead \n",
    "# of the current position in the string, without consuming characters.\n",
    "\n",
    "# The main difference between positive and negative look-ahead is their condition for success:\n",
    "\n",
    "# a) Positive Look-ahead (?=...):\n",
    "\n",
    "# 1. Syntax: (?=pattern)\n",
    "# 2. Condition: The pattern inside the look-ahead must match immediately ahead of the current position for the overall match to \n",
    "#     succeed.\n",
    "# 3. Example: foo(?=bar) matches \"foo\" only if it is followed by \"bar\".\n",
    "\n",
    "# b) Negative Look-ahead (?!...):\n",
    "\n",
    "# 1. Syntax: (?!pattern)\n",
    "# 2. Condition: The pattern inside the negative look-ahead must not match immediately ahead of the current position for the overall match to succeed.\n",
    "# 3. Example: foo(?!bar) matches \"foo\" only if it is not followed by \"bar\".\n",
    "\n",
    "# example(code):\n",
    "import re\n",
    "\n",
    "text = \"foobar\"\n",
    "\n",
    "# Positive Look-ahead\n",
    "match_positive = re.search(r'foo(?=bar)', text)\n",
    "print(bool(match_positive))  # Output: True (matches \"foo\" followed by \"bar\")\n",
    "\n",
    "# Negative Look-ahead\n",
    "match_negative = re.search(r'foo(?!bar)', text)\n",
    "print(bool(match_negative))  # Output: False (no match because \"foo\" is followed by \"bar\")"
   ]
  },
  {
   "cell_type": "markdown",
   "id": "0c654992",
   "metadata": {},
   "source": [
    "# 7."
   ]
  },
  {
   "cell_type": "code",
   "execution_count": 7,
   "id": "2aa36e77",
   "metadata": {},
   "outputs": [
    {
     "name": "stdout",
     "output_type": "stream",
     "text": [
      "John\n",
      "Doe\n",
      "John\n",
      "Doe\n"
     ]
    }
   ],
   "source": [
    "# Referring to groups by name rather than by number in a standard regular expression has several benefits:\n",
    "\n",
    "# a) Readability: Using names makes the regular expression more readable and understandable, especially when dealing with \n",
    "#     complex patterns that involve multiple groups. It allows you to give meaningful names to different parts of your pattern,\n",
    "#     making it easier to maintain and debug.\n",
    "\n",
    "# b) Clarity: Named groups provide clarity in your code by explicitly stating the purpose of each group. This helps other \n",
    "#     developers (and even yourself in the future) understand the intent of the regular expression without having to decipher \n",
    "#     group numbers or their meanings.\n",
    "\n",
    "# c) Flexibility: Group names are more flexible than numbers because they are independent of the order of groups in the regular \n",
    "#     expression. If you modify the pattern and change the order of groups, named references will still work correctly, whereas\n",
    "#     numeric references may become invalid.\n",
    "\n",
    "# d) Self-Documenting: By using meaningful names for groups, your regular expression becomes self-documenting. It acts as a \n",
    "#     form of inline documentation that explains what each part of the pattern represents, enhancing code readability and \n",
    "#     maintainability.\n",
    "\n",
    "# e) Avoiding Errors: Named groups reduce the likelihood of errors caused by mistakenly referencing the wrong group number. \n",
    "#     They provide a reliable and consistent way to access specific parts of the matched text without relying on position-based \n",
    "#     indices.\n",
    "    \n",
    "# example:\n",
    "import re\n",
    "\n",
    "text = \"John Doe\"\n",
    "pattern_with_name = re.compile(r'(?P<first_name>\\w+) (?P<last_name>\\w+)')\n",
    "pattern_with_number = re.compile(r'(\\w+) (\\w+)')\n",
    "\n",
    "# Using named groups\n",
    "match_with_name = pattern_with_name.match(text)\n",
    "print(match_with_name.group('first_name'))  # Output: John\n",
    "print(match_with_name.group('last_name'))   # Output: Doe\n",
    "\n",
    "# Using numbered groups (less readable and prone to errors if order changes)\n",
    "match_with_number = pattern_with_number.match(text)\n",
    "print(match_with_number.group(1))  # Output: John (if order is not changed)\n",
    "print(match_with_number.group(2))  # Output: Doe (if order is not changed)"
   ]
  },
  {
   "cell_type": "markdown",
   "id": "01179914",
   "metadata": {},
   "source": [
    "# 8."
   ]
  },
  {
   "cell_type": "code",
   "execution_count": 8,
   "id": "694004a1",
   "metadata": {},
   "outputs": [
    {
     "name": "stdout",
     "output_type": "stream",
     "text": [
      "['moon']\n",
      "moon\n"
     ]
    }
   ],
   "source": [
    "# Yes, you can use named groups in regular expressions to identify repeated items within a target string. However, it's important \n",
    "# to note that named groups are typically used to capture and extract specific patterns or substrings from the target string,\n",
    "# rather than identifying repeated items directly.\n",
    "\n",
    "# If you want to identify repeated words or phrases within a string, you can use backreferences with named groups.\n",
    "\n",
    "# example:\n",
    "import re\n",
    "\n",
    "text = \"The cow jumped over the moon moon\"\n",
    "pattern = re.compile(r'(?P<word>\\b\\w+\\b)\\s+(?P=word)')\n",
    "\n",
    "matches = pattern.findall(text)\n",
    "print(matches)  # Output: ['moon']\n",
    "\n",
    "# Alternatively, you can capture the repeated word using a named group directly\n",
    "pattern_with_capture = re.compile(r'(?P<repeated_word>\\b\\w+\\b)\\s+(?P=repeated_word)')\n",
    "match = pattern_with_capture.search(text)\n",
    "if match:\n",
    "    print(match.group('repeated_word'))  # Output: 'moon'  "
   ]
  },
  {
   "cell_type": "markdown",
   "id": "a6e9d8cb",
   "metadata": {},
   "source": [
    "# 9."
   ]
  },
  {
   "cell_type": "code",
   "execution_count": 9,
   "id": "c4bd717f",
   "metadata": {},
   "outputs": [],
   "source": [
    "# Here are two key things that the Scanner interface (depending on the specific implementation) can do for you while parsing\n",
    "# a string that re.findall cannot:\n",
    "\n",
    "# a) Maintaining State: Scanner interfaces often allow you to track the parsing position within the string. This means you can \n",
    "#     keep record of where you are in the string as you process it character by character or token by token. re.findall simply\n",
    "#     searches for all occurrences of the pattern and returns them as a list, without keeping track of the location in the string.\n",
    "\n",
    "# b) Handling Complex Tokenization: Scanners can be designed to recognize and handle more complex tokenization rules beyond simple \n",
    "#     regular expressions. This might involve defining custom token types, handling whitespace or delimiters explicitly, \n",
    "#     or performing actions based on the type of token encountered. re.findall is limited to matching patterns based on the\n",
    "#     provided regular expression."
   ]
  },
  {
   "cell_type": "markdown",
   "id": "ededc7b2",
   "metadata": {},
   "source": [
    "# 10."
   ]
  },
  {
   "cell_type": "code",
   "execution_count": 10,
   "id": "5c02ed13",
   "metadata": {},
   "outputs": [],
   "source": [
    "# No, a scanner object does not have to be named \"scanner\".  In fact, it's generally considered good practice to use more \n",
    "# descriptive names that reflect the specific purpose of the scanner.\n",
    "\n",
    "# Here's why using a more descriptive name is preferred:\n",
    "\n",
    "# a) Clarity and Readability: Using a name that conveys the scanner's function makes your code easier to understand for yourself \n",
    "#     and others. For example, if you're parsing a mathematical expression, a name like math_expression_scanner would be clearer\n",
    "#     than just scanner.\n",
    "\n",
    "# b) Context-Specific Naming: If you have multiple scanners in your code for different purposes, using descriptive names helps\n",
    "#     differentiate between them.\n",
    "    \n",
    "# Here are some examples of alternative names for scanner objects, depending on the context:\n",
    "\n",
    "# File scanner: file_reader, text_parser\n",
    "# Log scanner: log_processor, log_analyzer\n",
    "# Network scanner: packet_scanner, connection_scanner\n",
    "# Code scanner: syntax_analyzer, code_tokenizer"
   ]
  },
  {
   "cell_type": "code",
   "execution_count": null,
   "id": "c0299cf2",
   "metadata": {},
   "outputs": [],
   "source": []
  }
 ],
 "metadata": {
  "kernelspec": {
   "display_name": "Python 3 (ipykernel)",
   "language": "python",
   "name": "python3"
  },
  "language_info": {
   "codemirror_mode": {
    "name": "ipython",
    "version": 3
   },
   "file_extension": ".py",
   "mimetype": "text/x-python",
   "name": "python",
   "nbconvert_exporter": "python",
   "pygments_lexer": "ipython3",
   "version": "3.11.5"
  }
 },
 "nbformat": 4,
 "nbformat_minor": 5
}
